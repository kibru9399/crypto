{
 "cells": [
  {
   "cell_type": "code",
   "execution_count": 5,
   "id": "6f46e026",
   "metadata": {},
   "outputs": [
    {
     "name": "stderr",
     "output_type": "stream",
     "text": [
      "None of PyTorch, TensorFlow >= 2.0, or Flax have been found. Models won't be available and only tokenizers, configuration and file/data utilities can be used.\n"
     ]
    }
   ],
   "source": [
    "import pandas as pd\n",
    "import numpy as np\n",
    "from transformers import GPT2TokenizerFast"
   ]
  },
  {
   "cell_type": "code",
   "execution_count": 3,
   "id": "ff1891ff",
   "metadata": {},
   "outputs": [
    {
     "data": {
      "text/html": [
       "<div>\n",
       "<style scoped>\n",
       "    .dataframe tbody tr th:only-of-type {\n",
       "        vertical-align: middle;\n",
       "    }\n",
       "\n",
       "    .dataframe tbody tr th {\n",
       "        vertical-align: top;\n",
       "    }\n",
       "\n",
       "    .dataframe thead th {\n",
       "        text-align: right;\n",
       "    }\n",
       "</style>\n",
       "<table border=\"1\" class=\"dataframe\">\n",
       "  <thead>\n",
       "    <tr style=\"text-align: right;\">\n",
       "      <th></th>\n",
       "      <th>title</th>\n",
       "      <th>pubDate</th>\n",
       "      <th>guid</th>\n",
       "      <th>link</th>\n",
       "      <th>description</th>\n",
       "    </tr>\n",
       "  </thead>\n",
       "  <tbody>\n",
       "    <tr>\n",
       "      <th>0</th>\n",
       "      <td>Ukraine: Angry Zelensky vows to punish Russian...</td>\n",
       "      <td>Mon, 07 Mar 2022 08:01:56 GMT</td>\n",
       "      <td>https://www.bbc.co.uk/news/world-europe-60638042</td>\n",
       "      <td>https://www.bbc.co.uk/news/world-europe-606380...</td>\n",
       "      <td>The Ukrainian president says the country will ...</td>\n",
       "    </tr>\n",
       "    <tr>\n",
       "      <th>1</th>\n",
       "      <td>War in Ukraine: Taking cover in a town under a...</td>\n",
       "      <td>Sun, 06 Mar 2022 22:49:58 GMT</td>\n",
       "      <td>https://www.bbc.co.uk/news/world-europe-60641873</td>\n",
       "      <td>https://www.bbc.co.uk/news/world-europe-606418...</td>\n",
       "      <td>Jeremy Bowen was on the frontline in Irpin, as...</td>\n",
       "    </tr>\n",
       "    <tr>\n",
       "      <th>2</th>\n",
       "      <td>Ukraine war 'catastrophic for global food'</td>\n",
       "      <td>Mon, 07 Mar 2022 00:14:42 GMT</td>\n",
       "      <td>https://www.bbc.co.uk/news/business-60623941</td>\n",
       "      <td>https://www.bbc.co.uk/news/business-60623941?a...</td>\n",
       "      <td>One of the world's biggest fertiliser firms sa...</td>\n",
       "    </tr>\n",
       "    <tr>\n",
       "      <th>3</th>\n",
       "      <td>Manchester Arena bombing: Saffie Roussos's par...</td>\n",
       "      <td>Mon, 07 Mar 2022 00:05:40 GMT</td>\n",
       "      <td>https://www.bbc.co.uk/news/uk-60579079</td>\n",
       "      <td>https://www.bbc.co.uk/news/uk-60579079?at_medi...</td>\n",
       "      <td>The parents of the Manchester Arena bombing's ...</td>\n",
       "    </tr>\n",
       "    <tr>\n",
       "      <th>4</th>\n",
       "      <td>Ukraine conflict: Oil price soars to highest l...</td>\n",
       "      <td>Mon, 07 Mar 2022 08:15:53 GMT</td>\n",
       "      <td>https://www.bbc.co.uk/news/business-60642786</td>\n",
       "      <td>https://www.bbc.co.uk/news/business-60642786?a...</td>\n",
       "      <td>Consumers are feeling the impact of higher ene...</td>\n",
       "    </tr>\n",
       "    <tr>\n",
       "      <th>...</th>\n",
       "      <td>...</td>\n",
       "      <td>...</td>\n",
       "      <td>...</td>\n",
       "      <td>...</td>\n",
       "      <td>...</td>\n",
       "    </tr>\n",
       "    <tr>\n",
       "      <th>9075</th>\n",
       "      <td>What is a recession and how could it affect me?</td>\n",
       "      <td>Wed, 12 Oct 2022 09:45:21 GMT</td>\n",
       "      <td>https://www.bbc.co.uk/news/business-52986863</td>\n",
       "      <td>https://www.bbc.co.uk/news/business-52986863?a...</td>\n",
       "      <td>The UK economy unexpectedly shrank in August, ...</td>\n",
       "    </tr>\n",
       "    <tr>\n",
       "      <th>9076</th>\n",
       "      <td>Investors nervous as market sell-off intensifies</td>\n",
       "      <td>Wed, 12 Oct 2022 21:43:29 GMT</td>\n",
       "      <td>https://www.bbc.co.uk/news/business-63230008</td>\n",
       "      <td>https://www.bbc.co.uk/news/business-63230008?a...</td>\n",
       "      <td>The cost of government borrowing over 10 years...</td>\n",
       "    </tr>\n",
       "    <tr>\n",
       "      <th>9077</th>\n",
       "      <td>Recession risk rises as economy unexpectedly s...</td>\n",
       "      <td>Wed, 12 Oct 2022 09:18:18 GMT</td>\n",
       "      <td>https://www.bbc.co.uk/news/business-63225328</td>\n",
       "      <td>https://www.bbc.co.uk/news/business-63225328?a...</td>\n",
       "      <td>The surprise 0.3% drop strengthens predictions...</td>\n",
       "    </tr>\n",
       "    <tr>\n",
       "      <th>9078</th>\n",
       "      <td>Bank of England's warning pension help to end ...</td>\n",
       "      <td>Wed, 12 Oct 2022 12:34:34 GMT</td>\n",
       "      <td>https://www.bbc.co.uk/news/business-63223894</td>\n",
       "      <td>https://www.bbc.co.uk/news/business-63223894?a...</td>\n",
       "      <td>Government borrowing costs are almost as high ...</td>\n",
       "    </tr>\n",
       "    <tr>\n",
       "      <th>9079</th>\n",
       "      <td>What is the windfall tax on oil and gas compan...</td>\n",
       "      <td>Wed, 12 Oct 2022 08:49:22 GMT</td>\n",
       "      <td>https://www.bbc.co.uk/news/business-60295177</td>\n",
       "      <td>https://www.bbc.co.uk/news/business-60295177?a...</td>\n",
       "      <td>New PM Liz Truss has ruled out using a further...</td>\n",
       "    </tr>\n",
       "  </tbody>\n",
       "</table>\n",
       "<p>9080 rows × 5 columns</p>\n",
       "</div>"
      ],
      "text/plain": [
       "                                                  title  \\\n",
       "0     Ukraine: Angry Zelensky vows to punish Russian...   \n",
       "1     War in Ukraine: Taking cover in a town under a...   \n",
       "2            Ukraine war 'catastrophic for global food'   \n",
       "3     Manchester Arena bombing: Saffie Roussos's par...   \n",
       "4     Ukraine conflict: Oil price soars to highest l...   \n",
       "...                                                 ...   \n",
       "9075    What is a recession and how could it affect me?   \n",
       "9076   Investors nervous as market sell-off intensifies   \n",
       "9077  Recession risk rises as economy unexpectedly s...   \n",
       "9078  Bank of England's warning pension help to end ...   \n",
       "9079  What is the windfall tax on oil and gas compan...   \n",
       "\n",
       "                            pubDate  \\\n",
       "0     Mon, 07 Mar 2022 08:01:56 GMT   \n",
       "1     Sun, 06 Mar 2022 22:49:58 GMT   \n",
       "2     Mon, 07 Mar 2022 00:14:42 GMT   \n",
       "3     Mon, 07 Mar 2022 00:05:40 GMT   \n",
       "4     Mon, 07 Mar 2022 08:15:53 GMT   \n",
       "...                             ...   \n",
       "9075  Wed, 12 Oct 2022 09:45:21 GMT   \n",
       "9076  Wed, 12 Oct 2022 21:43:29 GMT   \n",
       "9077  Wed, 12 Oct 2022 09:18:18 GMT   \n",
       "9078  Wed, 12 Oct 2022 12:34:34 GMT   \n",
       "9079  Wed, 12 Oct 2022 08:49:22 GMT   \n",
       "\n",
       "                                                  guid  \\\n",
       "0     https://www.bbc.co.uk/news/world-europe-60638042   \n",
       "1     https://www.bbc.co.uk/news/world-europe-60641873   \n",
       "2         https://www.bbc.co.uk/news/business-60623941   \n",
       "3               https://www.bbc.co.uk/news/uk-60579079   \n",
       "4         https://www.bbc.co.uk/news/business-60642786   \n",
       "...                                                ...   \n",
       "9075      https://www.bbc.co.uk/news/business-52986863   \n",
       "9076      https://www.bbc.co.uk/news/business-63230008   \n",
       "9077      https://www.bbc.co.uk/news/business-63225328   \n",
       "9078      https://www.bbc.co.uk/news/business-63223894   \n",
       "9079      https://www.bbc.co.uk/news/business-60295177   \n",
       "\n",
       "                                                   link  \\\n",
       "0     https://www.bbc.co.uk/news/world-europe-606380...   \n",
       "1     https://www.bbc.co.uk/news/world-europe-606418...   \n",
       "2     https://www.bbc.co.uk/news/business-60623941?a...   \n",
       "3     https://www.bbc.co.uk/news/uk-60579079?at_medi...   \n",
       "4     https://www.bbc.co.uk/news/business-60642786?a...   \n",
       "...                                                 ...   \n",
       "9075  https://www.bbc.co.uk/news/business-52986863?a...   \n",
       "9076  https://www.bbc.co.uk/news/business-63230008?a...   \n",
       "9077  https://www.bbc.co.uk/news/business-63225328?a...   \n",
       "9078  https://www.bbc.co.uk/news/business-63223894?a...   \n",
       "9079  https://www.bbc.co.uk/news/business-60295177?a...   \n",
       "\n",
       "                                            description  \n",
       "0     The Ukrainian president says the country will ...  \n",
       "1     Jeremy Bowen was on the frontline in Irpin, as...  \n",
       "2     One of the world's biggest fertiliser firms sa...  \n",
       "3     The parents of the Manchester Arena bombing's ...  \n",
       "4     Consumers are feeling the impact of higher ene...  \n",
       "...                                                 ...  \n",
       "9075  The UK economy unexpectedly shrank in August, ...  \n",
       "9076  The cost of government borrowing over 10 years...  \n",
       "9077  The surprise 0.3% drop strengthens predictions...  \n",
       "9078  Government borrowing costs are almost as high ...  \n",
       "9079  New PM Liz Truss has ruled out using a further...  \n",
       "\n",
       "[9080 rows x 5 columns]"
      ]
     },
     "execution_count": 3,
     "metadata": {},
     "output_type": "execute_result"
    }
   ],
   "source": [
    "data = pd.read_csv('../Data/bbc_news.csv')\n",
    "data"
   ]
  },
  {
   "cell_type": "code",
   "execution_count": 6,
   "id": "e9b52f9d",
   "metadata": {},
   "outputs": [
    {
     "data": {
      "application/vnd.jupyter.widget-view+json": {
       "model_id": "3e25bef837614b309a4d7ec073513fce",
       "version_major": 2,
       "version_minor": 0
      },
      "text/plain": [
       "Downloading:   0%|          | 0.00/1.04M [00:00<?, ?B/s]"
      ]
     },
     "metadata": {},
     "output_type": "display_data"
    },
    {
     "data": {
      "application/vnd.jupyter.widget-view+json": {
       "model_id": "69e7194082154c32b28eb60a46d45438",
       "version_major": 2,
       "version_minor": 0
      },
      "text/plain": [
       "Downloading:   0%|          | 0.00/456k [00:00<?, ?B/s]"
      ]
     },
     "metadata": {},
     "output_type": "display_data"
    },
    {
     "data": {
      "application/vnd.jupyter.widget-view+json": {
       "model_id": "4d8a80fbd99747ac83123b138139b138",
       "version_major": 2,
       "version_minor": 0
      },
      "text/plain": [
       "Downloading:   0%|          | 0.00/1.36M [00:00<?, ?B/s]"
      ]
     },
     "metadata": {},
     "output_type": "display_data"
    },
    {
     "data": {
      "application/vnd.jupyter.widget-view+json": {
       "model_id": "7a3a8f489ab949d2973a334a01f2469f",
       "version_major": 2,
       "version_minor": 0
      },
      "text/plain": [
       "Downloading:   0%|          | 0.00/665 [00:00<?, ?B/s]"
      ]
     },
     "metadata": {},
     "output_type": "display_data"
    }
   ],
   "source": [
    "tokenizer = GPT2TokenizerFast.from_pretrained(\"gpt2\")"
   ]
  },
  {
   "cell_type": "code",
   "execution_count": 9,
   "id": "1b31b3e6",
   "metadata": {},
   "outputs": [
    {
     "data": {
      "text/plain": [
       "('Ukraine: Angry Zelensky vows to punish Russian atrocities',\n",
       " [44814, 25, 31900, 40071, 641, 2584, 36605, 284, 6878, 3394, 27817])"
      ]
     },
     "execution_count": 9,
     "metadata": {},
     "output_type": "execute_result"
    }
   ],
   "source": [
    "data.loc[0, 'title'], tokenizer(data.loc[0, 'title'])['input_ids']"
   ]
  },
  {
   "cell_type": "code",
   "execution_count": 20,
   "id": "61fd3c05",
   "metadata": {},
   "outputs": [
    {
     "data": {
      "text/plain": [
       "121692"
      ]
     },
     "execution_count": 20,
     "metadata": {},
     "output_type": "execute_result"
    }
   ],
   "source": [
    "token_titles = data['title'].map(lambda x: len(tokenizer(x)['input_ids'])).sum()\n",
    "token_titles"
   ]
  },
  {
   "cell_type": "code",
   "execution_count": 21,
   "id": "9d2b750a",
   "metadata": {},
   "outputs": [
    {
     "data": {
      "text/plain": [
       "197490"
      ]
     },
     "execution_count": 21,
     "metadata": {},
     "output_type": "execute_result"
    }
   ],
   "source": [
    "token_desc = data['description'].map(lambda x: len(tokenizer(x)['input_ids'])).sum()\n",
    "token_desc"
   ]
  },
  {
   "cell_type": "code",
   "execution_count": 23,
   "id": "a5397a95",
   "metadata": {},
   "outputs": [
    {
     "data": {
      "text/plain": [
       "319182"
      ]
     },
     "execution_count": 23,
     "metadata": {},
     "output_type": "execute_result"
    }
   ],
   "source": [
    "tokens = token_titles + token_desc\n",
    "tokens"
   ]
  },
  {
   "cell_type": "code",
   "execution_count": 39,
   "id": "53e3725f",
   "metadata": {},
   "outputs": [
    {
     "data": {
      "text/plain": [
       "{'ada': 0.0004, 'babbage': 0.0006, 'curie': 0.003, 'davinci': 0.03}"
      ]
     },
     "execution_count": 39,
     "metadata": {},
     "output_type": "execute_result"
    }
   ],
   "source": [
    "ada_per_k = 0.0004\n",
    "babbage_per_k = 0.0006\n",
    "curie_per_k = 0.003\n",
    "davinci_per_k = 0.03\n",
    "prices = {\n",
    "    'ada': ada_per_k,\n",
    "    'babbage': babbage_per_k,\n",
    "    'curie': curie_per_k,\n",
    "    'davinci': davinci_per_k\n",
    "}\n",
    "prices"
   ]
  },
  {
   "cell_type": "markdown",
   "id": "ca8b27c1",
   "metadata": {},
   "source": [
    "# Training"
   ]
  },
  {
   "cell_type": "code",
   "execution_count": 40,
   "id": "473eebdf",
   "metadata": {},
   "outputs": [
    {
     "name": "stdout",
     "output_type": "stream",
     "text": [
      "ada 0.5106912\n",
      "babbage 0.7660368\n",
      "curie 3.8301840000000005\n",
      "davinci 38.30184\n"
     ]
    }
   ],
   "source": [
    "for m, p in prices.items():\n",
    "    print(m, 4 * tokens / 1000 * p)"
   ]
  },
  {
   "cell_type": "markdown",
   "id": "fd11f5f9",
   "metadata": {},
   "source": [
    "# Using"
   ]
  },
  {
   "cell_type": "code",
   "execution_count": 45,
   "id": "f0997718",
   "metadata": {},
   "outputs": [
    {
     "name": "stdout",
     "output_type": "stream",
     "text": [
      "1 token 0.0000016000\n",
      "1 token 0.0000024000\n",
      "1 token 0.0000120000\n",
      "1 token 0.0001200000\n"
     ]
    }
   ],
   "source": [
    "for m, p in prices.items():\n",
    "    use_p = p * 4\n",
    "    print('1 token', \"{:.10f}\".format(use_p / 1000))"
   ]
  },
  {
   "cell_type": "code",
   "execution_count": 51,
   "id": "4121ce04",
   "metadata": {},
   "outputs": [
    {
     "name": "stdout",
     "output_type": "stream",
     "text": [
      "1000 users per 1000 tokens 1.6000000000\n",
      "1000 users per 1000 tokens 2.4000000000\n",
      "1000 users per 1000 tokens 12.0000000000\n",
      "1000 users per 1000 tokens 120.0000000000\n"
     ]
    }
   ],
   "source": [
    "for m, p in prices.items():\n",
    "    use_p = p * 4\n",
    "    print('1000 users per 1000 tokens', \"{:.10f}\".format(use_p / 1000 * 1000000))"
   ]
  },
  {
   "cell_type": "code",
   "execution_count": null,
   "id": "b8c6d785",
   "metadata": {},
   "outputs": [],
   "source": []
  }
 ],
 "metadata": {
  "kernelspec": {
   "display_name": "Python 3 (ipykernel)",
   "language": "python",
   "name": "python3"
  },
  "language_info": {
   "codemirror_mode": {
    "name": "ipython",
    "version": 3
   },
   "file_extension": ".py",
   "mimetype": "text/x-python",
   "name": "python",
   "nbconvert_exporter": "python",
   "pygments_lexer": "ipython3",
   "version": "3.8.12"
  }
 },
 "nbformat": 4,
 "nbformat_minor": 5
}
