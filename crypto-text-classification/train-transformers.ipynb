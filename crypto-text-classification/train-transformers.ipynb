{
 "cells": [
  {
   "cell_type": "code",
   "execution_count": 1,
   "id": "da4847ca",
   "metadata": {},
   "outputs": [],
   "source": [
    "import pandas as pd\n",
    "import numpy as np\n",
    "\n",
    "from transformers import AutoModelForSequenceClassification, AutoTokenizer\n",
    "from transformers import DataCollatorWithPadding, TrainingArguments, Trainer\n",
    "\n",
    "from datasets import DatasetDict, Dataset"
   ]
  },
  {
   "cell_type": "code",
   "execution_count": null,
   "id": "d845e45e",
   "metadata": {},
   "outputs": [],
   "source": [
    "BASIC_PATH = './output'"
   ]
  },
  {
   "cell_type": "code",
   "execution_count": 2,
   "id": "c70bac3a",
   "metadata": {},
   "outputs": [
    {
     "data": {
      "text/html": [
       "<div>\n",
       "<style scoped>\n",
       "    .dataframe tbody tr th:only-of-type {\n",
       "        vertical-align: middle;\n",
       "    }\n",
       "\n",
       "    .dataframe tbody tr th {\n",
       "        vertical-align: top;\n",
       "    }\n",
       "\n",
       "    .dataframe thead th {\n",
       "        text-align: right;\n",
       "    }\n",
       "</style>\n",
       "<table border=\"1\" class=\"dataframe\">\n",
       "  <thead>\n",
       "    <tr style=\"text-align: right;\">\n",
       "      <th></th>\n",
       "      <th>text</th>\n",
       "      <th>label</th>\n",
       "    </tr>\n",
       "  </thead>\n",
       "  <tbody>\n",
       "    <tr>\n",
       "      <th>0</th>\n",
       "      <td>Source: CoinTelegraph Title: Bitcoin options d...</td>\n",
       "      <td>1</td>\n",
       "    </tr>\n",
       "    <tr>\n",
       "      <th>1</th>\n",
       "      <td>Source: The Daily Hodl Title: Crypto Exchange ...</td>\n",
       "      <td>0</td>\n",
       "    </tr>\n",
       "    <tr>\n",
       "      <th>2</th>\n",
       "      <td>Source: The Daily Hodl Title: BitKeep Wallet G...</td>\n",
       "      <td>0</td>\n",
       "    </tr>\n",
       "    <tr>\n",
       "      <th>3</th>\n",
       "      <td>Source: Bitcoin Magazine Title: Kazakhstan Pre...</td>\n",
       "      <td>0</td>\n",
       "    </tr>\n",
       "    <tr>\n",
       "      <th>4</th>\n",
       "      <td>Source: CoinTelegraph Title: The blockchain tr...</td>\n",
       "      <td>0</td>\n",
       "    </tr>\n",
       "    <tr>\n",
       "      <th>...</th>\n",
       "      <td>...</td>\n",
       "      <td>...</td>\n",
       "    </tr>\n",
       "    <tr>\n",
       "      <th>1313</th>\n",
       "      <td>Source: U.Today Title: Ethereum (ETH) Price An...</td>\n",
       "      <td>0</td>\n",
       "    </tr>\n",
       "    <tr>\n",
       "      <th>1314</th>\n",
       "      <td>Source: ZyCrypto Title: Digital Assets Amongst...</td>\n",
       "      <td>0</td>\n",
       "    </tr>\n",
       "    <tr>\n",
       "      <th>1315</th>\n",
       "      <td>Source: The Daily Hodl Title: Cardano, Litecoi...</td>\n",
       "      <td>1</td>\n",
       "    </tr>\n",
       "    <tr>\n",
       "      <th>1316</th>\n",
       "      <td>Source: ZyCrypto Title: Binance plans to inves...</td>\n",
       "      <td>1</td>\n",
       "    </tr>\n",
       "    <tr>\n",
       "      <th>1317</th>\n",
       "      <td>Source: ZyCrypto Title: Regulation Alone Isn’t...</td>\n",
       "      <td>0</td>\n",
       "    </tr>\n",
       "  </tbody>\n",
       "</table>\n",
       "<p>1318 rows × 2 columns</p>\n",
       "</div>"
      ],
      "text/plain": [
       "                                                   text  label\n",
       "0     Source: CoinTelegraph Title: Bitcoin options d...      1\n",
       "1     Source: The Daily Hodl Title: Crypto Exchange ...      0\n",
       "2     Source: The Daily Hodl Title: BitKeep Wallet G...      0\n",
       "3     Source: Bitcoin Magazine Title: Kazakhstan Pre...      0\n",
       "4     Source: CoinTelegraph Title: The blockchain tr...      0\n",
       "...                                                 ...    ...\n",
       "1313  Source: U.Today Title: Ethereum (ETH) Price An...      0\n",
       "1314  Source: ZyCrypto Title: Digital Assets Amongst...      0\n",
       "1315  Source: The Daily Hodl Title: Cardano, Litecoi...      1\n",
       "1316  Source: ZyCrypto Title: Binance plans to inves...      1\n",
       "1317  Source: ZyCrypto Title: Regulation Alone Isn’t...      0\n",
       "\n",
       "[1318 rows x 2 columns]"
      ]
     },
     "execution_count": 2,
     "metadata": {},
     "output_type": "execute_result"
    }
   ],
   "source": [
    "data = pd.read_csv('./output/classification/source_title_description_bin_clf.csv', header=0)\n",
    "data"
   ]
  },
  {
   "cell_type": "code",
   "execution_count": null,
   "id": "14d5bea3",
   "metadata": {},
   "outputs": [],
   "source": [
    "X, y = data['text'], data['label']"
   ]
  },
  {
   "cell_type": "code",
   "execution_count": null,
   "id": "0e9f66bf",
   "metadata": {},
   "outputs": [],
   "source": [
    "X_train, X_test, y_train, y_test = train_test_split(X, y, test_split=0.3, random_state=42)"
   ]
  },
  {
   "cell_type": "code",
   "execution_count": null,
   "id": "af967dd9",
   "metadata": {},
   "outputs": [],
   "source": [
    "MODEL_NAME = 'distilbert-base-uncased'"
   ]
  },
  {
   "cell_type": "code",
   "execution_count": null,
   "id": "baa97d62",
   "metadata": {},
   "outputs": [],
   "source": [
    "tokenizer = AutoTokenizer.from_pretrained()"
   ]
  },
  {
   "cell_type": "code",
   "execution_count": null,
   "id": "98eb60d6",
   "metadata": {},
   "outputs": [],
   "source": [
    "def tokenization(example):\n",
    "    return tokenizer(\n",
    "        example, \n",
    "        max_length=512, \n",
    "        padding='max_length', \n",
    "        truncation=True, \n",
    "        add_special_tokens=True,\n",
    "        return_tensors='pt'\n",
    "    )"
   ]
  },
  {
   "cell_type": "code",
   "execution_count": null,
   "id": "57805076",
   "metadata": {},
   "outputs": [],
   "source": [
    "dataset = DatasetDict({\n",
    "    'train': Dataset.from_pandas(pd.concat([X_train, y_train])),\n",
    "    'test': Dataset.from_pandas(pd.concat([X_test, y_test])),\n",
    "})"
   ]
  },
  {
   "cell_type": "code",
   "execution_count": null,
   "id": "ab89f0e2",
   "metadata": {},
   "outputs": [],
   "source": [
    "model = AutoModelForSequenceClassification.from_pretrained(MODEL_NAME)"
   ]
  },
  {
   "cell_type": "code",
   "execution_count": null,
   "id": "fb56b9fb",
   "metadata": {},
   "outputs": [],
   "source": [
    "data_collator = DataCollatorWithPadding(tokenizer)"
   ]
  },
  {
   "cell_type": "code",
   "execution_count": null,
   "id": "b9be61c7",
   "metadata": {},
   "outputs": [],
   "source": [
    "training_args = TrainingArgs(\n",
    "    output_dir=f'{BASIC_PATH}/training',\n",
    "    do_train=True,\n",
    "    do_eval=True,\n",
    "    seed=42,\n",
    "    learning_rate=2e-5,\n",
    "    weight_decay=1e-2,\n",
    "\n",
    "    # 'lr_scheduler_type': 'cosine',\n",
    "    gradient_accumulation_steps= 1,\n",
    "    per_device_train_batch_size=4,\n",
    "    num_train_epochs=2,\n",
    "    warmup_steps=0,\n",
    "    max_grad_norm=1000,\n",
    "    adam_epsilon=1e-6,\n",
    "\n",
    "    log_level='debug',\n",
    "    save_strategy='steps',\n",
    "    disable_tqdm=False,\n",
    "    logging_steps=250,\n",
    "    eval_steps=250,\n",
    "    save_steps=500,\n",
    "    resume_from_checkpoint=True,\n",
    "    per_device_eval_batch_size=8,\n",
    "    evaluation_strategy=steps',\n",
    "    # 'fp16': True,\n",
    "    metric_for_best_model=loss',\n",
    "    load_best_model_at_end=True,\n",
    "    greater_is_better=False,\n",
    "    \n",
    "    save_total_limit=1,\n",
    "    \n",
    "    report_to='none',\n",
    ")"
   ]
  },
  {
   "cell_type": "code",
   "execution_count": null,
   "id": "6b7d2e3c",
   "metadata": {},
   "outputs": [],
   "source": [
    "trainer = Trainer(\n",
    "    model=model,\n",
    "    args=training_args,\n",
    "    data_collator=data_collator,\n",
    "    train_dataset=dataset['train'],\n",
    "    eval_dataset=dataset['test'],\n",
    "    tokenizer=tokenizer,\n",
    ")"
   ]
  },
  {
   "cell_type": "code",
   "execution_count": null,
   "id": "d3f1104e",
   "metadata": {},
   "outputs": [],
   "source": [
    "results = trainer.train()"
   ]
  },
  {
   "cell_type": "code",
   "execution_count": 3,
   "id": "8bb6bce7",
   "metadata": {},
   "outputs": [],
   "source": [
    "y_pred = np.array([1, 0, 1, 0])\n",
    "y_true = np.array([1, 0, 1, 1])"
   ]
  },
  {
   "cell_type": "code",
   "execution_count": 43,
   "id": "ee146712",
   "metadata": {},
   "outputs": [],
   "source": [
    "def recall(y_pred, y_true):\n",
    "    classes = np.unique(y_pred)\n",
    "    results = dict()\n",
    "    for cl in classes:\n",
    "        pred_tmp = y_pred.copy()\n",
    "        pred_tmp[y_pred == cl] = 1\n",
    "        pred_tmp[y_pred != cl] = 0\n",
    "\n",
    "        true_tmp = y_true.copy()\n",
    "        true_tmp[y_true == cl] = 1\n",
    "        true_tmp[y_true != cl] = 0\n",
    "\n",
    "        # True Positive (TP): we predict a label of 1 (positive), and the true label is 1.\n",
    "        TP = np.sum(np.logical_and(pred_tmp == 1, true_tmp == 1))\n",
    "\n",
    "        # True Negative (TN): we predict a label of 0 (negative), and the true label is 0.\n",
    "        TN = np.sum(np.logical_and(pred_tmp == 0, true_tmp == 0))\n",
    "\n",
    "        # False Positive (FP): we predict a label of 1 (positive), but the true label is 0.\n",
    "        FP = np.sum(np.logical_and(pred_tmp == 1, true_tmp == 0))\n",
    "\n",
    "        # False Negative (FN): we predict a label of 0 (negative), but the true label is 1.\n",
    "        FN = np.sum(np.logical_and(pred_tmp == 0, true_tmp == 1))\n",
    "        \n",
    "        results[cl] = TP / (TP + FN)\n",
    "    print(results)\n",
    "    return np.mean(list(results.values()))"
   ]
  },
  {
   "cell_type": "code",
   "execution_count": 44,
   "id": "c21b63b7",
   "metadata": {},
   "outputs": [],
   "source": [
    "def precision(y_pred, y_true):\n",
    "    classes = np.unique(y_pred)\n",
    "    results = dict()\n",
    "    for cl in classes:\n",
    "        pred_tmp = y_pred.copy()\n",
    "        pred_tmp[y_pred == cl] = 1\n",
    "        pred_tmp[y_pred != cl] = 0\n",
    "\n",
    "        true_tmp = y_true.copy()\n",
    "        true_tmp[y_true == cl] = 1\n",
    "        true_tmp[y_true != cl] = 0\n",
    "\n",
    "        # True Positive (TP): we predict a label of 1 (positive), and the true label is 1.\n",
    "        TP = np.sum(np.logical_and(pred_tmp == 1, true_tmp == 1))\n",
    "\n",
    "        # True Negative (TN): we predict a label of 0 (negative), and the true label is 0.\n",
    "        TN = np.sum(np.logical_and(pred_tmp == 0, true_tmp == 0))\n",
    "\n",
    "        # False Positive (FP): we predict a label of 1 (positive), but the true label is 0.\n",
    "        FP = np.sum(np.logical_and(pred_tmp == 1, true_tmp == 0))\n",
    "\n",
    "        # False Negative (FN): we predict a label of 0 (negative), but the true label is 1.\n",
    "        FN = np.sum(np.logical_and(pred_tmp == 0, true_tmp == 1))\n",
    "        \n",
    "        results[cl] = TP / (TP + FP)\n",
    "    print(results)\n",
    "    return np.mean(list(results.values()))"
   ]
  },
  {
   "cell_type": "code",
   "execution_count": 47,
   "id": "3e4f36af",
   "metadata": {},
   "outputs": [],
   "source": [
    "def f1(y_pred, y_true):\n",
    "    p = precision(y_pred, y_true)\n",
    "    r = recall(y_pred, y_true)\n",
    "    return 2 * p * r / (p + r)"
   ]
  },
  {
   "cell_type": "code",
   "execution_count": 45,
   "id": "4159cbe9",
   "metadata": {},
   "outputs": [
    {
     "name": "stdout",
     "output_type": "stream",
     "text": [
      "{0: 0.5, 1: 1.0}\n"
     ]
    },
    {
     "data": {
      "text/plain": [
       "0.75"
      ]
     },
     "execution_count": 45,
     "metadata": {},
     "output_type": "execute_result"
    }
   ],
   "source": [
    "precision(y_pred, y_true)"
   ]
  },
  {
   "cell_type": "code",
   "execution_count": 46,
   "id": "9595b1f9",
   "metadata": {},
   "outputs": [
    {
     "name": "stdout",
     "output_type": "stream",
     "text": [
      "{0: 1.0, 1: 0.6666666666666666}\n"
     ]
    },
    {
     "data": {
      "text/plain": [
       "0.8333333333333333"
      ]
     },
     "execution_count": 46,
     "metadata": {},
     "output_type": "execute_result"
    }
   ],
   "source": [
    "recall(y_pred, y_true)"
   ]
  },
  {
   "cell_type": "code",
   "execution_count": 48,
   "id": "c0ac51f7",
   "metadata": {},
   "outputs": [
    {
     "name": "stdout",
     "output_type": "stream",
     "text": [
      "{0: 0.5, 1: 1.0}\n",
      "{0: 1.0, 1: 0.6666666666666666}\n"
     ]
    },
    {
     "data": {
      "text/plain": [
       "0.7894736842105263"
      ]
     },
     "execution_count": 48,
     "metadata": {},
     "output_type": "execute_result"
    }
   ],
   "source": [
    "f1(y_pred, y_true)"
   ]
  },
  {
   "cell_type": "code",
   "execution_count": null,
   "id": "487e390d",
   "metadata": {},
   "outputs": [],
   "source": []
  }
 ],
 "metadata": {
  "kernelspec": {
   "display_name": "Python 3 (ipykernel)",
   "language": "python",
   "name": "python3"
  },
  "language_info": {
   "codemirror_mode": {
    "name": "ipython",
    "version": 3
   },
   "file_extension": ".py",
   "mimetype": "text/x-python",
   "name": "python",
   "nbconvert_exporter": "python",
   "pygments_lexer": "ipython3",
   "version": "3.8.12"
  }
 },
 "nbformat": 4,
 "nbformat_minor": 5
}
